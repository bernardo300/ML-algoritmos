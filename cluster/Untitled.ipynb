{
 "cells": [
  {
   "cell_type": "code",
   "execution_count": 26,
   "metadata": {},
   "outputs": [],
   "source": [
    "import numpy as np\n",
    "import matplotlib.pyplot as plt\n",
    "from sklearn.cluster import KMeans\n",
    "from sklearn.preprocessing import StandardScaler\n",
    "%matplotlib inline"
   ]
  },
  {
   "cell_type": "code",
   "execution_count": 28,
   "metadata": {},
   "outputs": [
    {
     "data": {
      "image/png": "[encoded data removed]",
      "text/plain": [
       "<Figure size 432x288 with 1 Axes>"
      ]
     },
     "metadata": {
      "needs_background": "light"
     },
     "output_type": "display_data"
    }
   ],
   "source": [
    "x=[20,  27,  21,  37,  46, 53, 55,  47,  52,  32,  39,  41,  39,  48,  48]  \n",
    "y=[1000,1200,2900,1850,900,950,2000,2100,3000,5900,4100,5100,7000,5000,6500]  \n",
    "plt.scatter(x,y)\n",
    "\n",
    "base = np.array([[20,1000],[27,1200],[21,2900],[37,1850],[46,900],\n",
    "                 [53,950],[55,2000],[47,2100],[52,3000],[32,5900],\n",
    "                 [39,4100],[41,5100],[39,7000],[48,5000],[48,6500]\n",
    "                ])\n",
    "scaler = StandardScaler()\n",
    "base = scaler.fit_transform(base)"
   ]
  },
  {
   "cell_type": "code",
   "execution_count": 16,
   "metadata": {},
   "outputs": [],
   "source": [
    "kmeans = KMeans(n_clusters = 3)\n",
    "predicao = kmeans.fit_predict(base)\n",
    "\n",
    "centroides = kmeans.cluster_centers_\n",
    "rotulos = kmeans.labels_"
   ]
  },
  {
   "cell_type": "code",
   "execution_count": 17,
   "metadata": {},
   "outputs": [
    {
     "data": {
      "text/plain": [
       "<matplotlib.collections.PathCollection at 0x7fd884892ad0>"
      ]
     },
     "execution_count": 17,
     "metadata": {},
     "output_type": "execute_result"
    },
    {
     "data": {
      "image/png": "[encoded data removed]",
      "text/plain": [
       "<Figure size 432x288 with 1 Axes>"
      ]
     },
     "metadata": {
      "needs_background": "light"
     },
     "output_type": "display_data"
    }
   ],
   "source": [
    "\n",
    "cores = [\"g.\", \"r.\", \"b.\"]\n",
    "for i in range(len(x)):\n",
    "    plt.plot(base[i][0], base[i][1], cores[rotulos[i]], markersize = 15)\n",
    "    #print(\"[{},{}] ->grupo {}\".format(base[i][0], base[i][1], rotulos[i]))\n",
    "plt.scatter(centroides[:,0], centroides[:,1], marker = \"x\")"
   ]
  },
  {
   "cell_type": "code",
   "execution_count": 18,
   "metadata": {},
   "outputs": [],
   "source": [
    "valores = scaler.inverse_transform(base)"
   ]
  },
  {
   "cell_type": "code",
   "execution_count": 19,
   "metadata": {},
   "outputs": [
    {
     "data": {
      "text/plain": [
       "array([[  20., 1000.],\n",
       "       [  27., 1200.],\n",
       "       [  21., 2900.],\n",
       "       [  37., 1850.],\n",
       "       [  46.,  900.],\n",
       "       [  53.,  950.],\n",
       "       [  55., 2000.],\n",
       "       [  47., 2100.],\n",
       "       [  52., 3000.],\n",
       "       [  32., 5900.],\n",
       "       [  39., 4100.],\n",
       "       [  41., 5100.],\n",
       "       [  39., 7000.],\n",
       "       [  48., 5000.],\n",
       "       [  48., 6500.],\n",
       "       [  23., 8500.]])"
      ]
     },
     "execution_count": 19,
     "metadata": {},
     "output_type": "execute_result"
    }
   ],
   "source": [
    "valores"
   ]
  },
  {
   "cell_type": "code",
   "execution_count": 6,
   "metadata": {},
   "outputs": [
    {
     "data": {
      "text/plain": [
       "array([2, 2, 2, 1, 1, 1, 1, 1, 1, 0, 0, 0, 0, 0, 0], dtype=int32)"
      ]
     },
     "execution_count": 6,
     "metadata": {},
     "output_type": "execute_result"
    }
   ],
   "source": [
    "predicao"
   ]
  },
  {
   "cell_type": "code",
   "execution_count": null,
   "metadata": {},
   "outputs": [],
   "source": []
  }
 ],
 "metadata": {
  "kernelspec": {
   "display_name": "Python 3",
   "language": "python",
   "name": "python3"
  },
  "language_info": {
   "codemirror_mode": {
    "name": "ipython",
    "version": 3
   },
   "file_extension": ".py",
   "mimetype": "text/x-python",
   "name": "python",
   "nbconvert_exporter": "python",
   "pygments_lexer": "ipython3",
   "version": "3.7.4"
  }
 },
 "nbformat": 4,
 "nbformat_minor": 2
}
